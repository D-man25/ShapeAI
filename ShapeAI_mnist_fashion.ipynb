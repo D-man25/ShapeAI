{
  "nbformat": 4,
  "nbformat_minor": 0,
  "metadata": {
    "colab": {
      "name": "ShapeAI_mnist_fashion.ipynb",
      "provenance": []
    },
    "kernelspec": {
      "name": "python3",
      "display_name": "Python 3"
    }
  },
  "cells": [
    {
      "cell_type": "markdown",
      "metadata": {
        "id": "s2cgcwuVJS1O"
      },
      "source": [
        "# Importing libraries"
      ]
    },
    {
      "cell_type": "code",
      "metadata": {
        "id": "0W77sWwauRa5"
      },
      "source": [
        "import tensorflow as tf\r\n",
        "from tensorflow.keras.models import Sequential\r\n",
        "from tensorflow.keras.layers import Input, Dense\r\n",
        "import numpy as np\r\n"
      ],
      "execution_count": 122,
      "outputs": []
    },
    {
      "cell_type": "markdown",
      "metadata": {
        "id": "hXQAIpJMJi-P"
      },
      "source": [
        "Importing Dataset"
      ]
    },
    {
      "cell_type": "code",
      "metadata": {
        "id": "ZA5sGWyRuus-"
      },
      "source": [
        "from keras.datasets import fashion_mnist\r\n",
        "data = fashion_mnist.load_data()"
      ],
      "execution_count": 123,
      "outputs": []
    },
    {
      "cell_type": "code",
      "metadata": {
        "id": "cqTrgYv_vMYK"
      },
      "source": [
        "(x_train, y_train), (x_test, y_test) = fashion_mnist.load_data()"
      ],
      "execution_count": 124,
      "outputs": []
    },
    {
      "cell_type": "code",
      "metadata": {
        "id": "GTHkMExNvuTk"
      },
      "source": [
        "\r\n",
        "x_train = x_train.reshape((x_train.shape[0], 28*28)).astype('float32')\r\n",
        "x_test = x_test.reshape((x_test.shape[0], 28*28)).astype('float32')"
      ],
      "execution_count": 125,
      "outputs": []
    },
    {
      "cell_type": "code",
      "metadata": {
        "id": "kzuLUb2gwJ3O"
      },
      "source": [
        "x_train = x_train/225\r\n",
        "x_test = x_test/225"
      ],
      "execution_count": 126,
      "outputs": []
    },
    {
      "cell_type": "code",
      "metadata": {
        "id": "2W7f87iYwRTv"
      },
      "source": [
        "from keras.utils import np_utils\r\n",
        "y_train = np_utils.to_categorical(y_train)\r\n",
        "y_test = np_utils.to_categorical(y_test)"
      ],
      "execution_count": 127,
      "outputs": []
    },
    {
      "cell_type": "code",
      "metadata": {
        "colab": {
          "base_uri": "https://localhost:8080/"
        },
        "id": "MbjpSLlSwpI7",
        "outputId": "9f195378-6053-47a9-a258-5032ad9faab9"
      },
      "source": [
        "y_test.shape[1]"
      ],
      "execution_count": 128,
      "outputs": [
        {
          "output_type": "execute_result",
          "data": {
            "text/plain": [
              "10"
            ]
          },
          "metadata": {
            "tags": []
          },
          "execution_count": 128
        }
      ]
    },
    {
      "cell_type": "code",
      "metadata": {
        "id": "5GzhlI4RwuwF"
      },
      "source": [
        "model = Sequential()\r\n",
        "model.add(Dense(32, input_dim = 28*28, activation = 'relu'))\r\n",
        "model.add(Dense(64, activation = 'relu'))\r\n",
        "model.add(Dense(4, activation = 'sigmoid'))\r\n",
        "model.add(Dense(10, activation = 'tanh'))\r\n",
        "model.add(Dense(10, activation = 'softmax'))\r\n",
        "\r\n",
        "\r\n"
      ],
      "execution_count": 129,
      "outputs": []
    },
    {
      "cell_type": "code",
      "metadata": {
        "id": "WO6mkYujxSOr"
      },
      "source": [
        "model.compile(loss = 'categorical_crossentropy', optimizer = 'adam', metrics = ['accuracy'])"
      ],
      "execution_count": 130,
      "outputs": []
    },
    {
      "cell_type": "code",
      "metadata": {
        "colab": {
          "base_uri": "https://localhost:8080/"
        },
        "id": "uj9Wa51wxnlB",
        "outputId": "b89587e0-3ed2-4266-8dac-6279f0113ae3"
      },
      "source": [
        "model.summary()"
      ],
      "execution_count": 131,
      "outputs": [
        {
          "output_type": "stream",
          "text": [
            "Model: \"sequential_10\"\n",
            "_________________________________________________________________\n",
            "Layer (type)                 Output Shape              Param #   \n",
            "=================================================================\n",
            "dense_42 (Dense)             (None, 32)                25120     \n",
            "_________________________________________________________________\n",
            "dense_43 (Dense)             (None, 64)                2112      \n",
            "_________________________________________________________________\n",
            "dense_44 (Dense)             (None, 4)                 260       \n",
            "_________________________________________________________________\n",
            "dense_45 (Dense)             (None, 10)                50        \n",
            "_________________________________________________________________\n",
            "dense_46 (Dense)             (None, 10)                110       \n",
            "=================================================================\n",
            "Total params: 27,652\n",
            "Trainable params: 27,652\n",
            "Non-trainable params: 0\n",
            "_________________________________________________________________\n"
          ],
          "name": "stdout"
        }
      ]
    },
    {
      "cell_type": "code",
      "metadata": {
        "colab": {
          "base_uri": "https://localhost:8080/"
        },
        "id": "31uEkhRsxpz4",
        "outputId": "3ca5520e-4951-4245-fc39-f55ee391c05b"
      },
      "source": [
        "print('x_train shape: ', x_train.shape)\r\n",
        "print('y_train shape: ', y_train.shape)"
      ],
      "execution_count": 132,
      "outputs": [
        {
          "output_type": "stream",
          "text": [
            "x_train shape:  (60000, 784)\n",
            "y_train shape:  (60000, 10)\n"
          ],
          "name": "stdout"
        }
      ]
    },
    {
      "cell_type": "code",
      "metadata": {
        "colab": {
          "base_uri": "https://localhost:8080/"
        },
        "id": "VAChYDgxGqqr",
        "outputId": "89a650f2-d88c-44d8-c07a-0bdab0656777"
      },
      "source": [
        "model.fit(x_train, y_train, validation_split = 0.2, epochs = 10)"
      ],
      "execution_count": 133,
      "outputs": [
        {
          "output_type": "stream",
          "text": [
            "Epoch 1/10\n",
            "1500/1500 [==============================] - 3s 2ms/step - loss: 1.5702 - accuracy: 0.4255 - val_loss: 0.9114 - val_accuracy: 0.6093\n",
            "Epoch 2/10\n",
            "1500/1500 [==============================] - 3s 2ms/step - loss: 0.8448 - accuracy: 0.6510 - val_loss: 0.6675 - val_accuracy: 0.7544\n",
            "Epoch 3/10\n",
            "1500/1500 [==============================] - 3s 2ms/step - loss: 0.6101 - accuracy: 0.7842 - val_loss: 0.5272 - val_accuracy: 0.8212\n",
            "Epoch 4/10\n",
            "1500/1500 [==============================] - 3s 2ms/step - loss: 0.4478 - accuracy: 0.8477 - val_loss: 0.4182 - val_accuracy: 0.8552\n",
            "Epoch 5/10\n",
            "1500/1500 [==============================] - 3s 2ms/step - loss: 0.3895 - accuracy: 0.8645 - val_loss: 0.3965 - val_accuracy: 0.8642\n",
            "Epoch 6/10\n",
            "1500/1500 [==============================] - 3s 2ms/step - loss: 0.3625 - accuracy: 0.8740 - val_loss: 0.4034 - val_accuracy: 0.8574\n",
            "Epoch 7/10\n",
            "1500/1500 [==============================] - 3s 2ms/step - loss: 0.3451 - accuracy: 0.8788 - val_loss: 0.3788 - val_accuracy: 0.8681\n",
            "Epoch 8/10\n",
            "1500/1500 [==============================] - 3s 2ms/step - loss: 0.3242 - accuracy: 0.8867 - val_loss: 0.3750 - val_accuracy: 0.8698\n",
            "Epoch 9/10\n",
            "1500/1500 [==============================] - 3s 2ms/step - loss: 0.3187 - accuracy: 0.8874 - val_loss: 0.3730 - val_accuracy: 0.8735\n",
            "Epoch 10/10\n",
            "1500/1500 [==============================] - 2s 2ms/step - loss: 0.3129 - accuracy: 0.8876 - val_loss: 0.3647 - val_accuracy: 0.8760\n"
          ],
          "name": "stdout"
        },
        {
          "output_type": "execute_result",
          "data": {
            "text/plain": [
              "<tensorflow.python.keras.callbacks.History at 0x7f8243122a90>"
            ]
          },
          "metadata": {
            "tags": []
          },
          "execution_count": 133
        }
      ]
    },
    {
      "cell_type": "code",
      "metadata": {
        "colab": {
          "base_uri": "https://localhost:8080/"
        },
        "id": "8Ks785L5GqtY",
        "outputId": "18824c4a-2a54-4085-8a79-29b012f9a51c"
      },
      "source": [
        "model.evaluate(x_test, y_test)"
      ],
      "execution_count": 134,
      "outputs": [
        {
          "output_type": "stream",
          "text": [
            "313/313 [==============================] - 1s 1ms/step - loss: 0.3878 - accuracy: 0.8678\n"
          ],
          "name": "stdout"
        },
        {
          "output_type": "execute_result",
          "data": {
            "text/plain": [
              "[0.3878295421600342, 0.8677999973297119]"
            ]
          },
          "metadata": {
            "tags": []
          },
          "execution_count": 134
        }
      ]
    },
    {
      "cell_type": "code",
      "metadata": {
        "colab": {
          "base_uri": "https://localhost:8080/"
        },
        "id": "H0L7pknKGqwG",
        "outputId": "ba86672e-5a90-4ff0-8821-15af8d06ef28"
      },
      "source": [
        "model.fit(x_train, y_train, validation_split = 0.2, epochs = 20)"
      ],
      "execution_count": 135,
      "outputs": [
        {
          "output_type": "stream",
          "text": [
            "Epoch 1/20\n",
            "1500/1500 [==============================] - 3s 2ms/step - loss: 0.3033 - accuracy: 0.8914 - val_loss: 0.3560 - val_accuracy: 0.8762\n",
            "Epoch 2/20\n",
            "1500/1500 [==============================] - 3s 2ms/step - loss: 0.2952 - accuracy: 0.8943 - val_loss: 0.3670 - val_accuracy: 0.8726\n",
            "Epoch 3/20\n",
            "1500/1500 [==============================] - 3s 2ms/step - loss: 0.2871 - accuracy: 0.8960 - val_loss: 0.3654 - val_accuracy: 0.8726\n",
            "Epoch 4/20\n",
            "1500/1500 [==============================] - 3s 2ms/step - loss: 0.2853 - accuracy: 0.8970 - val_loss: 0.3742 - val_accuracy: 0.8734\n",
            "Epoch 5/20\n",
            "1500/1500 [==============================] - 3s 2ms/step - loss: 0.2796 - accuracy: 0.8988 - val_loss: 0.3896 - val_accuracy: 0.8624\n",
            "Epoch 6/20\n",
            "1500/1500 [==============================] - 3s 2ms/step - loss: 0.2761 - accuracy: 0.9004 - val_loss: 0.3652 - val_accuracy: 0.8747\n",
            "Epoch 7/20\n",
            "1500/1500 [==============================] - 3s 2ms/step - loss: 0.2687 - accuracy: 0.9031 - val_loss: 0.3618 - val_accuracy: 0.8791\n",
            "Epoch 8/20\n",
            "1500/1500 [==============================] - 3s 2ms/step - loss: 0.2651 - accuracy: 0.9032 - val_loss: 0.3577 - val_accuracy: 0.8793\n",
            "Epoch 9/20\n",
            "1500/1500 [==============================] - 3s 2ms/step - loss: 0.2632 - accuracy: 0.9049 - val_loss: 0.3559 - val_accuracy: 0.8794\n",
            "Epoch 10/20\n",
            "1500/1500 [==============================] - 2s 2ms/step - loss: 0.2597 - accuracy: 0.9056 - val_loss: 0.3672 - val_accuracy: 0.8760\n",
            "Epoch 11/20\n",
            "1500/1500 [==============================] - 3s 2ms/step - loss: 0.2555 - accuracy: 0.9067 - val_loss: 0.3627 - val_accuracy: 0.8781\n",
            "Epoch 12/20\n",
            "1500/1500 [==============================] - 2s 2ms/step - loss: 0.2518 - accuracy: 0.9095 - val_loss: 0.3751 - val_accuracy: 0.8776\n",
            "Epoch 13/20\n",
            "1500/1500 [==============================] - 3s 2ms/step - loss: 0.2490 - accuracy: 0.9096 - val_loss: 0.3645 - val_accuracy: 0.8797\n",
            "Epoch 14/20\n",
            "1500/1500 [==============================] - 3s 2ms/step - loss: 0.2494 - accuracy: 0.9101 - val_loss: 0.3791 - val_accuracy: 0.8787\n",
            "Epoch 15/20\n",
            "1500/1500 [==============================] - 2s 2ms/step - loss: 0.2410 - accuracy: 0.9134 - val_loss: 0.3689 - val_accuracy: 0.8791\n",
            "Epoch 16/20\n",
            "1500/1500 [==============================] - 3s 2ms/step - loss: 0.2392 - accuracy: 0.9135 - val_loss: 0.3742 - val_accuracy: 0.8796\n",
            "Epoch 17/20\n",
            "1500/1500 [==============================] - 3s 2ms/step - loss: 0.2373 - accuracy: 0.9139 - val_loss: 0.3778 - val_accuracy: 0.8758\n",
            "Epoch 18/20\n",
            "1500/1500 [==============================] - 3s 2ms/step - loss: 0.2391 - accuracy: 0.9124 - val_loss: 0.3840 - val_accuracy: 0.8772\n",
            "Epoch 19/20\n",
            "1500/1500 [==============================] - 3s 2ms/step - loss: 0.2335 - accuracy: 0.9157 - val_loss: 0.3905 - val_accuracy: 0.8752\n",
            "Epoch 20/20\n",
            "1500/1500 [==============================] - 3s 2ms/step - loss: 0.2297 - accuracy: 0.9169 - val_loss: 0.3857 - val_accuracy: 0.8775\n"
          ],
          "name": "stdout"
        },
        {
          "output_type": "execute_result",
          "data": {
            "text/plain": [
              "<tensorflow.python.keras.callbacks.History at 0x7f8240877208>"
            ]
          },
          "metadata": {
            "tags": []
          },
          "execution_count": 135
        }
      ]
    },
    {
      "cell_type": "code",
      "metadata": {
        "id": "9dUlaPbFJPuE"
      },
      "source": [
        ""
      ],
      "execution_count": null,
      "outputs": []
    },
    {
      "cell_type": "code",
      "metadata": {
        "colab": {
          "base_uri": "https://localhost:8080/"
        },
        "id": "dZPx8kzeGqy5",
        "outputId": "f42e17a9-2dc9-44e0-c9fd-28f482cb8056"
      },
      "source": [
        "model.evaluate(x_test, y_test)"
      ],
      "execution_count": 136,
      "outputs": [
        {
          "output_type": "stream",
          "text": [
            "313/313 [==============================] - 0s 1ms/step - loss: 0.4191 - accuracy: 0.8696\n"
          ],
          "name": "stdout"
        },
        {
          "output_type": "execute_result",
          "data": {
            "text/plain": [
              "[0.4190545380115509, 0.8695999979972839]"
            ]
          },
          "metadata": {
            "tags": []
          },
          "execution_count": 136
        }
      ]
    },
    {
      "cell_type": "code",
      "metadata": {
        "id": "PsZHl66oGq1h"
      },
      "source": [
        ""
      ],
      "execution_count": null,
      "outputs": []
    }
  ]
}